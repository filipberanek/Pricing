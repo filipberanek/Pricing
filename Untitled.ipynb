{
 "cells": [
  {
   "cell_type": "code",
   "execution_count": 74,
   "metadata": {},
   "outputs": [
    {
     "name": "stderr",
     "output_type": "stream",
     "text": [
      "C:\\Users\\fberanek\\AppData\\Local\\conda\\conda\\envs\\DevEnv\\lib\\site-packages\\urllib3\\connectionpool.py:847: InsecureRequestWarning: Unverified HTTPS request is being made. Adding certificate verification is strongly advised. See: https://urllib3.readthedocs.io/en/latest/advanced-usage.html#ssl-warnings\n",
      "  InsecureRequestWarning)\n"
     ]
    },
    {
     "name": "stdout",
     "output_type": "stream",
     "text": [
      "217\n"
     ]
    },
    {
     "name": "stderr",
     "output_type": "stream",
     "text": [
      "C:\\Users\\fberanek\\AppData\\Local\\conda\\conda\\envs\\DevEnv\\lib\\site-packages\\urllib3\\connectionpool.py:847: InsecureRequestWarning: Unverified HTTPS request is being made. Adding certificate verification is strongly advised. See: https://urllib3.readthedocs.io/en/latest/advanced-usage.html#ssl-warnings\n",
      "  InsecureRequestWarning)\n"
     ]
    },
    {
     "data": {
      "text/plain": [
       "'PROD_ID,ESHOP,PROD_NAME,PRICE,STOCK\\na63682188d470ab49b4078615cbcb838,e4850e32ccfafbb40edfcb6538f240cf,SFR 5320WH,2274,0.0\\n85feddc30646387dd5d81df1b0a56828,e4850e32ccfafbb40edfcb6538f240cf,SCP 1504BK,379,0.0\\n97f4bc02a6423b3b7fe0978bbd34a084,4982e4f35838b859d5a30d433bf96e50,ZV2000 Perfect Air,2349,0.0\\n'"
      ]
     },
     "execution_count": 74,
     "metadata": {},
     "output_type": "execute_result"
    }
   ],
   "source": [
    "import urllib3 \n",
    "import json\n",
    "\n",
    "\n",
    "http = urllib3.PoolManager()\n",
    "\n",
    "headers = {\n",
    "  'X-StorageApi-Token': '314-42522-7BhD9nyW2Zd1uoXCGCfQ9XgKIzOzDqj53lklVEc1'\n",
    "  ,'content-type':'application/json'\n",
    "}\n",
    "URL = 'https://connection.eu-central-1.keboola.com/v2/storage/files?tags[]=pipers&offset=0&limit=2000'\n",
    "request = http.request('GET',URL, headers=headers)\n",
    "\n",
    "vstupy = json.loads(request.data.decode('utf-8'))\n",
    "print(len(vstupy))\n",
    "\n",
    "\n",
    "http2 = urllib3.PoolManager()\n",
    "data = http2.urlopen('GET',vstupy[1]['url'])\n",
    "data.data.decode('utf-8')\n"
   ]
  }
 ],
 "metadata": {
  "kernelspec": {
   "display_name": "Python 3",
   "language": "python",
   "name": "python3"
  },
  "language_info": {
   "codemirror_mode": {
    "name": "ipython",
    "version": 3
   },
   "file_extension": ".py",
   "mimetype": "text/x-python",
   "name": "python",
   "nbconvert_exporter": "python",
   "pygments_lexer": "ipython3",
   "version": "3.7.3"
  }
 },
 "nbformat": 4,
 "nbformat_minor": 2
}
